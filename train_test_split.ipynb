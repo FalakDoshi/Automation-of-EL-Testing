{
 "cells": [
  {
   "cell_type": "code",
   "execution_count": null,
   "id": "85676d0a",
   "metadata": {},
   "outputs": [],
   "source": [
    "import os\n",
    "import random\n",
    "import shutil\n",
    "\n",
    "# Define the paths for the category folders and the test/train folders\n",
    "category_paths = {\n",
    "    'A': 'data/classified_cells/A',\n",
    "    'R': 'data/classified_cells/R'\n",
    "}\n",
    "train_path = 'data/train'\n",
    "test_path = 'data/test'"
   ]
  },
  {
   "cell_type": "code",
   "execution_count": null,
   "id": "4419bdb3",
   "metadata": {},
   "outputs": [],
   "source": [
    "# Define the split ratio (e.g. 0.8 for 80% train and 20% test)\n",
    "split_ratio = 0.8"
   ]
  },
  {
   "cell_type": "code",
   "execution_count": null,
   "id": "32136faf",
   "metadata": {},
   "outputs": [],
   "source": [
    "def clean_dir(category_path):\n",
    "    try:\n",
    "        shutil.rmtree(category_path)\n",
    "    except FileNotFoundError:\n",
    "        pass"
   ]
  },
  {
   "cell_type": "code",
   "execution_count": null,
   "id": "9524cdc6",
   "metadata": {},
   "outputs": [],
   "source": [
    "clean_dir(train_path)"
   ]
  },
  {
   "cell_type": "code",
   "execution_count": null,
   "id": "ac9c50a6",
   "metadata": {},
   "outputs": [],
   "source": [
    "clean_dir(test_path)"
   ]
  },
  {
   "cell_type": "code",
   "execution_count": null,
   "id": "de74c2e1",
   "metadata": {},
   "outputs": [],
   "source": [
    "# Loop through the category folders\n",
    "for category, path in category_paths.items():\n",
    "\n",
    "    # Get the list of image files in the category folder\n",
    "    files = os.listdir(path)\n",
    "    \n",
    "    # Shuffle the files randomly\n",
    "    random.shuffle(files)\n",
    "    \n",
    "    # Calculate the index to split the files into train and test sets\n",
    "    split_index = int(len(files) * split_ratio)\n",
    "    \n",
    "    # Split the files into train and test sets\n",
    "    train_files = files[:split_index]\n",
    "    test_files = files[split_index:]\n",
    "    \n",
    "    # Create the train and test directories for this category\n",
    "    train_category_path = os.path.join(train_path, category)\n",
    "    test_category_path = os.path.join(test_path, category)\n",
    "    \n",
    "    # Delete existing images from train and test\n",
    "    clean_dir(train_category_path)\n",
    "    clean_dir(test_category_path)\n",
    "    \n",
    "    os.makedirs(train_category_path, exist_ok=True)\n",
    "    os.makedirs(test_category_path, exist_ok=True)\n",
    "    \n",
    "    \n",
    "    # Copy the train files to the train directory for this category\n",
    "    for file in train_files:\n",
    "        src = os.path.join(path, file)\n",
    "        dst = os.path.join(train_category_path, file)\n",
    "        shutil.copy(src, dst)\n",
    "    \n",
    "    # Copy the test files to the test directory for this category\n",
    "    for file in test_files:\n",
    "        src = os.path.join(path, file)\n",
    "        dst = os.path.join(test_category_path, file)\n",
    "        shutil.copy(src, dst)"
   ]
  },
  {
   "cell_type": "code",
   "execution_count": null,
   "id": "f634e9c6",
   "metadata": {},
   "outputs": [],
   "source": []
  }
 ],
 "metadata": {
  "kernelspec": {
   "display_name": "Python 3 (ipykernel)",
   "language": "python",
   "name": "python3"
  },
  "language_info": {
   "codemirror_mode": {
    "name": "ipython",
    "version": 3
   },
   "file_extension": ".py",
   "mimetype": "text/x-python",
   "name": "python",
   "nbconvert_exporter": "python",
   "pygments_lexer": "ipython3",
   "version": "3.10.9"
  }
 },
 "nbformat": 4,
 "nbformat_minor": 5
}
