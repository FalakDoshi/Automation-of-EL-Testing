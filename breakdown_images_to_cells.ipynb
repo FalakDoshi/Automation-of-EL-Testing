{
 "cells": [
  {
   "cell_type": "code",
   "execution_count": null,
   "id": "2b11174b",
   "metadata": {},
   "outputs": [],
   "source": [
    "from PIL import Image\n",
    "import math\n",
    "import os\n",
    "\n",
    "cell_width = 400\n",
    "cell_height = 400\n",
    "\n",
    "raw_image_path = \"data/raw_images/\"\n",
    "cell_image_path = \"data/raw_cells/\""
   ]
  },
  {
   "cell_type": "code",
   "execution_count": null,
   "id": "faad375d",
   "metadata": {},
   "outputs": [],
   "source": [
    "def split_tiff_image(filename):\n",
    "    # Open the TIFF image\n",
    "    im = Image.open(filename)\n",
    "    \n",
    "    print(\"Processing File\", filename)\n",
    "    \n",
    "    width, height = im.size\n",
    "    \n",
    "    m = width // cell_width\n",
    "    n = height // cell_height\n",
    "    print(\"Original Size\", width, \"x\" , height)\n",
    "    \n",
    "    if m != 6 and n != 12:\n",
    "        print(\"Module is not of correct size\")\n",
    "        raise\n",
    "    \n",
    "    # Crop black pixels\n",
    "    im = crop_to_size(im=im, target_width=m*cell_width, target_height=n*cell_height)\n",
    "    \n",
    "    # Determine the size of each grid cell\n",
    "    width, height = im.size\n",
    "    print(\"Cropped Size\", width, \"x\" , height)\n",
    "\n",
    "    # Split the image into a grid of m-by-n cells\n",
    "    for i in range(m):\n",
    "        for j in range(n):\n",
    "            # Determine the coordinates of the current cell\n",
    "            left = i * cell_width\n",
    "            upper = j * cell_height\n",
    "            right = left + cell_width\n",
    "            lower = upper + cell_height\n",
    "\n",
    "            # Crop the cell from the original image\n",
    "            cell = im.crop((left, upper, right, lower))\n",
    "\n",
    "            # Save the cell as a separate image\n",
    "            cell_filename = f\"{filename.split('/')[-1].split('.')[0]}_cell_{i}_{j}.tiff\"\n",
    "            \n",
    "            file_dir = filename.split(\"/\")[-1].strip(\".tif\")\n",
    "            os.makedirs(os.path.join(cell_image_path, file_dir), exist_ok=True)\n",
    "            cell.save(os.path.join(cell_image_path, file_dir, cell_filename))\n",
    "    print(\"Split cells saved to\", file_dir)"
   ]
  },
  {
   "cell_type": "code",
   "execution_count": null,
   "id": "35ed00a2",
   "metadata": {},
   "outputs": [],
   "source": [
    "def crop_to_size(im, target_width, target_height):\n",
    "    \n",
    "    # Get the dimensions of the original image\n",
    "    width, height = im.size\n",
    "\n",
    "    # Calculate the coordinates of the center of the original image\n",
    "    center_x = width / 2\n",
    "    center_y = height / 2\n",
    "\n",
    "    # Calculate the coordinates of the top-left corner of the new image\n",
    "    left = center_x - target_width / 2\n",
    "    upper = center_y - target_height / 2\n",
    "\n",
    "    # Calculate the coordinates of the bottom-right corner of the new image\n",
    "    right = left + target_width\n",
    "    lower = upper + target_height\n",
    "\n",
    "    # Crop the image to the new dimensions\n",
    "    im_cropped = im.crop((left, upper, right, lower))\n",
    "\n",
    "    return im_cropped"
   ]
  },
  {
   "cell_type": "code",
   "execution_count": null,
   "id": "4ce5e63f",
   "metadata": {},
   "outputs": [],
   "source": [
    "files = os.listdir(raw_image_path)"
   ]
  },
  {
   "cell_type": "code",
   "execution_count": null,
   "id": "adaf549f",
   "metadata": {},
   "outputs": [],
   "source": [
    "for file in files:\n",
    "    print(os.path.join(raw_image_path, file))\n",
    "    split_tiff_image(os.path.join(raw_image_path, file))"
   ]
  },
  {
   "cell_type": "code",
   "execution_count": null,
   "id": "b6d034b7",
   "metadata": {},
   "outputs": [],
   "source": []
  }
 ],
 "metadata": {
  "kernelspec": {
   "display_name": "Python 3 (ipykernel)",
   "language": "python",
   "name": "python3"
  },
  "language_info": {
   "codemirror_mode": {
    "name": "ipython",
    "version": 3
   },
   "file_extension": ".py",
   "mimetype": "text/x-python",
   "name": "python",
   "nbconvert_exporter": "python",
   "pygments_lexer": "ipython3",
   "version": "3.10.9"
  }
 },
 "nbformat": 4,
 "nbformat_minor": 5
}
